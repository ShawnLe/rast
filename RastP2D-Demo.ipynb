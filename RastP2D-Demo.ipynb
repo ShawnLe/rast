{
 "cells": [
  {
   "cell_type": "code",
   "execution_count": 1,
   "metadata": {
    "collapsed": false
   },
   "outputs": [
    {
     "name": "stdout",
     "output_type": "stream",
     "text": [
      "Populating the interactive namespace from numpy and matplotlib\n"
     ]
    }
   ],
   "source": [
    "%pylab inline"
   ]
  },
  {
   "cell_type": "code",
   "execution_count": 2,
   "metadata": {
    "collapsed": true
   },
   "outputs": [],
   "source": [
    "from scipy import *\n",
    "from numpy import *\n",
    "import rast"
   ]
  },
  {
   "cell_type": "code",
   "execution_count": 3,
   "metadata": {
    "collapsed": true
   },
   "outputs": [],
   "source": [
    "model = rand(10,2)*20\n",
    "image = vstack([rand(100,2) * 100.0,model  + array([[25,45]])])"
   ]
  },
  {
   "cell_type": "code",
   "execution_count": 4,
   "metadata": {
    "collapsed": true
   },
   "outputs": [],
   "source": [
    "matcher = rast.makeRastP2D()\n",
    "matcher.set_verbose(1)\n",
    "matcher.set_maxresults(5)\n",
    "matcher.set_min_q(7.0)\n",
    "matcher.set_tolerance(0.1)\n",
    "matcher.set_xrange(-100,100)\n",
    "matcher.set_yrange(-100,100)\n",
    "matcher.set_arange(-0.1,0.1)\n",
    "matcher.set_srange(0.9,1.1)\n",
    "matcher.set_lsq(1)"
   ]
  },
  {
   "cell_type": "code",
   "execution_count": 5,
   "metadata": {
    "collapsed": false
   },
   "outputs": [],
   "source": [
    "for x,y in model: matcher.add_msource(x,y,0.0,2.0,0.1)\n",
    "for x,y in image: matcher.add_ipoint(x,y,0.0)"
   ]
  },
  {
   "cell_type": "code",
   "execution_count": 6,
   "metadata": {
    "collapsed": false
   },
   "outputs": [
    {
     "data": {
      "text/plain": [
       "5"
      ]
     },
     "execution_count": 6,
     "metadata": {},
     "output_type": "execute_result"
    }
   ],
   "source": [
    "matcher.match()\n",
    "matcher.nresults()"
   ]
  },
  {
   "cell_type": "code",
   "execution_count": 7,
   "metadata": {
    "collapsed": false
   },
   "outputs": [
    {
     "name": "stdout",
     "output_type": "stream",
     "text": [
      "0 9.98691749573 9.99952411652 25.048828125 44.873046875 0.00947265699506 1.00302731991\n"
     ]
    }
   ],
   "source": [
    "for rank in range(matcher.nresults()):\n",
    "    if matcher.lbound(rank)<3.0: break\n",
    "    print rank,\n",
    "    print matcher.lbound(rank), matcher.ubound(rank), \n",
    "    print matcher.translation(rank, 0), matcher.translation(rank, 1),\n",
    "    print matcher.angle(rank), matcher.scale(rank)"
   ]
  }
 ],
 "metadata": {
  "kernelspec": {
   "display_name": "Python 2",
   "language": "python",
   "name": "python2"
  },
  "language_info": {
   "codemirror_mode": {
    "name": "ipython",
    "version": 2
   },
   "file_extension": ".py",
   "mimetype": "text/x-python",
   "name": "python",
   "nbconvert_exporter": "python",
   "pygments_lexer": "ipython2",
   "version": "2.7.6"
  }
 },
 "nbformat": 4,
 "nbformat_minor": 0
}
